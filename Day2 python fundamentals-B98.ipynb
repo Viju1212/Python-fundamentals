{
 "cells": [
  {
   "cell_type": "code",
   "execution_count": 2,
   "id": "41f14966-e767-459a-abe7-39ae0d073f63",
   "metadata": {},
   "outputs": [
    {
     "name": "stdout",
     "output_type": "stream",
     "text": [
      "hello world\n"
     ]
    }
   ],
   "source": [
    "print(\"hello world\")"
   ]
  },
  {
   "cell_type": "code",
   "execution_count": null,
   "id": "a8bf87a5-eee6-4ae2-a845-72f3ba4bf225",
   "metadata": {},
   "outputs": [],
   "source": [
    "Understanding the variables in python"
   ]
  },
  {
   "cell_type": "code",
   "execution_count": 7,
   "id": "e04088ff-1107-4324-8f19-3fd0c93492d0",
   "metadata": {},
   "outputs": [],
   "source": [
    "a=1"
   ]
  },
  {
   "cell_type": "code",
   "execution_count": 8,
   "id": "cb3f28e8-8cc3-4e71-9a98-9a3e3940abc2",
   "metadata": {},
   "outputs": [],
   "source": [
    "b=2"
   ]
  },
  {
   "cell_type": "code",
   "execution_count": 9,
   "id": "b616761b-c377-458c-ae8d-eac8f84c561d",
   "metadata": {
    "scrolled": true
   },
   "outputs": [
    {
     "name": "stdout",
     "output_type": "stream",
     "text": [
      "3\n"
     ]
    }
   ],
   "source": [
    "c=a+b\n",
    "print (c)"
   ]
  },
  {
   "cell_type": "code",
   "execution_count": null,
   "id": "d09a2847-6e24-4601-8219-5338c5b541e7",
   "metadata": {},
   "outputs": [],
   "source": [
    "Rules for declaring the variables in python:"
   ]
  },
  {
   "cell_type": "code",
   "execution_count": null,
   "id": "6bff7b93-65a7-4b50-867c-25b83f0f8be4",
   "metadata": {},
   "outputs": [],
   "source": [
    "No namespace for declaring the Variable names"
   ]
  },
  {
   "cell_type": "code",
   "execution_count": 17,
   "id": "3110151b-b8dd-41ca-8b01-8764e96ff419",
   "metadata": {},
   "outputs": [
    {
     "ename": "SyntaxError",
     "evalue": "invalid syntax (1269662365.py, line 1)",
     "output_type": "error",
     "traceback": [
      "\u001b[1;36m  Cell \u001b[1;32mIn[17], line 1\u001b[1;36m\u001b[0m\n\u001b[1;33m    first name =\"viji\"\u001b[0m\n\u001b[1;37m          ^\u001b[0m\n\u001b[1;31mSyntaxError\u001b[0m\u001b[1;31m:\u001b[0m invalid syntax\n"
     ]
    }
   ],
   "source": [
    "first name =\"viji\"\n",
    "print(first name)"
   ]
  },
  {
   "cell_type": "code",
   "execution_count": 12,
   "id": "859a1ff2-c461-46c1-959b-d7bbb7223bd7",
   "metadata": {},
   "outputs": [
    {
     "name": "stdout",
     "output_type": "stream",
     "text": [
      "viji\n"
     ]
    }
   ],
   "source": [
    "firstname =\"viji\"\n",
    "print(firstname)"
   ]
  },
  {
   "cell_type": "code",
   "execution_count": null,
   "id": "c6efb31c-5879-4357-b27d-8531600140a0",
   "metadata": {},
   "outputs": [],
   "source": [
    "A variable name should not start with numbers **"
   ]
  },
  {
   "cell_type": "code",
   "execution_count": 13,
   "id": "ff7b27a8-82e9-466e-bc9c-ee694bb7638c",
   "metadata": {
    "scrolled": true
   },
   "outputs": [
    {
     "ename": "SyntaxError",
     "evalue": "invalid decimal literal (1217265017.py, line 1)",
     "output_type": "error",
     "traceback": [
      "\u001b[1;36m  Cell \u001b[1;32mIn[13], line 1\u001b[1;36m\u001b[0m\n\u001b[1;33m    1name = \"divya\"\u001b[0m\n\u001b[1;37m    ^\u001b[0m\n\u001b[1;31mSyntaxError\u001b[0m\u001b[1;31m:\u001b[0m invalid decimal literal\n"
     ]
    }
   ],
   "source": [
    "1name = \"divya\"\n",
    "print(1name)"
   ]
  },
  {
   "cell_type": "code",
   "execution_count": 14,
   "id": "7e01296d-a34b-401c-9095-9703d95020a1",
   "metadata": {},
   "outputs": [
    {
     "name": "stdout",
     "output_type": "stream",
     "text": [
      "divya\n"
     ]
    }
   ],
   "source": [
    "name2 = 'divya'\n",
    "print(name2)"
   ]
  },
  {
   "cell_type": "code",
   "execution_count": null,
   "id": "1910637f-996b-435c-9aff-ac15f45afd49",
   "metadata": {},
   "outputs": [],
   "source": [
    "A variable name should not contains any special characters (@, #, $, %, &---->)"
   ]
  },
  {
   "cell_type": "code",
   "execution_count": 15,
   "id": "ed5f6c64-8bc9-4935-816e-1bf3ba2922ed",
   "metadata": {},
   "outputs": [
    {
     "ename": "SyntaxError",
     "evalue": "invalid syntax (1828730809.py, line 1)",
     "output_type": "error",
     "traceback": [
      "\u001b[1;36m  Cell \u001b[1;32mIn[15], line 1\u001b[1;36m\u001b[0m\n\u001b[1;33m    key@ = 'value'\u001b[0m\n\u001b[1;37m         ^\u001b[0m\n\u001b[1;31mSyntaxError\u001b[0m\u001b[1;31m:\u001b[0m invalid syntax\n"
     ]
    }
   ],
   "source": [
    "key@ = 'value'\n",
    "print(key@)"
   ]
  },
  {
   "cell_type": "code",
   "execution_count": 16,
   "id": "92e66a0c-d046-4edd-8622-067fc2d0f413",
   "metadata": {},
   "outputs": [
    {
     "name": "stdout",
     "output_type": "stream",
     "text": [
      "value\n"
     ]
    }
   ],
   "source": [
    "key = 'value'\n",
    "print(key)"
   ]
  },
  {
   "cell_type": "code",
   "execution_count": null,
   "id": "e75c0052-44c9-4a6b-8c27-5c03115db335",
   "metadata": {},
   "outputs": [],
   "source": [
    "Datatypes in python:"
   ]
  },
  {
   "cell_type": "code",
   "execution_count": null,
   "id": "2c2201da-5d48-4d65-a23f-803f1ecb5bac",
   "metadata": {},
   "outputs": [],
   "source": [
    "String -  str"
   ]
  },
  {
   "cell_type": "code",
   "execution_count": null,
   "id": "e327747a-faea-41a1-9c3e-65f4677414b0",
   "metadata": {},
   "outputs": [],
   "source": [
    "Numbers - integers -> int, floats (decimal) ->0.1, 0.2"
   ]
  },
  {
   "cell_type": "code",
   "execution_count": null,
   "id": "de85f17e-328a-496a-a7fc-cb19dc958352",
   "metadata": {},
   "outputs": [],
   "source": [
    "Lists - list"
   ]
  },
  {
   "cell_type": "code",
   "execution_count": null,
   "id": "94a2a2d4-56d9-4034-b3e2-718baf1bf76f",
   "metadata": {},
   "outputs": [],
   "source": [
    "tuples - tuple"
   ]
  },
  {
   "cell_type": "code",
   "execution_count": null,
   "id": "095eab81-287b-4e08-ae0d-8ea668fd91fe",
   "metadata": {},
   "outputs": [],
   "source": [
    "Dictionaries - dict"
   ]
  },
  {
   "cell_type": "code",
   "execution_count": null,
   "id": "60bbd918-07b2-4b97-b6a8-03da117e3f2e",
   "metadata": {},
   "outputs": [],
   "source": [
    "Classification of datatypes: broadly classified into 2 categories"
   ]
  },
  {
   "cell_type": "code",
   "execution_count": null,
   "id": "1b9c81c6-ace3-43cc-9910-e960ef0f0f67",
   "metadata": {},
   "outputs": [],
   "source": [
    "mutable datatype- can be able to edit/alter\n",
    "immutable datatype- cannot be able to edit/alter"
   ]
  },
  {
   "cell_type": "code",
   "execution_count": null,
   "id": "a9c158bb-6627-4618-afd2-07f913326d12",
   "metadata": {},
   "outputs": [],
   "source": [
    "Introduction to string datatype:-"
   ]
  },
  {
   "cell_type": "code",
   "execution_count": null,
   "id": "e34cf447-d004-40e5-aed8-3e546448c860",
   "metadata": {},
   "outputs": [],
   "source": [
    "Definition: string is a series of characters declared in quotes"
   ]
  },
  {
   "cell_type": "code",
   "execution_count": null,
   "id": "39b7c685-0c8e-431b-a945-e5069d9b934e",
   "metadata": {},
   "outputs": [],
   "source": [
    "classification: its classified as immutable data type"
   ]
  },
  {
   "cell_type": "code",
   "execution_count": null,
   "id": "e4acdc10-00fd-44d7-a198-7a3db23ccd3a",
   "metadata": {},
   "outputs": [],
   "source": [
    "how to declare the string?"
   ]
  },
  {
   "cell_type": "code",
   "execution_count": null,
   "id": "0d0b6a57-88d4-486e-bb5a-0f1425c9179f",
   "metadata": {},
   "outputs": [],
   "source": [
    "single quote - ''"
   ]
  },
  {
   "cell_type": "code",
   "execution_count": null,
   "id": "b5ff13f8-bba9-408c-987e-8c6b90f9b677",
   "metadata": {},
   "outputs": [],
   "source": [
    "double quote - \" \""
   ]
  }
 ],
 "metadata": {
  "kernelspec": {
   "display_name": "Python 3 (ipykernel)",
   "language": "python",
   "name": "python3"
  },
  "language_info": {
   "codemirror_mode": {
    "name": "ipython",
    "version": 3
   },
   "file_extension": ".py",
   "mimetype": "text/x-python",
   "name": "python",
   "nbconvert_exporter": "python",
   "pygments_lexer": "ipython3",
   "version": "3.13.5"
  }
 },
 "nbformat": 4,
 "nbformat_minor": 5
}
